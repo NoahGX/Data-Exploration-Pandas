{
  "cells": [
    {
      "cell_type": "markdown",
      "id": "coupled-transmission",
      "metadata": {
        "id": "coupled-transmission"
      },
      "source": [
        "# **Data Exploration and Visualizaton using Pandas**"
      ]
    },
    {
      "cell_type": "markdown",
      "id": "disabled-booking",
      "metadata": {
        "id": "disabled-booking"
      },
      "source": [
        "## Task 1\n",
        "\n",
        "For the following DataFrame, add a column of integers containing 1, 2, 3, and 4 called rank1 to the fruit_info table which expresses personal preference about the taste ordering for each fruit (1 is tastiest; 4 is least tasty)."
      ]
    },
    {
      "cell_type": "code",
      "execution_count": 1,
      "id": "divine-surface",
      "metadata": {
        "colab": {
          "base_uri": "https://localhost:8080/",
          "height": 175
        },
        "id": "divine-surface",
        "outputId": "c362cc1d-db7e-48ca-ab6f-39a3a7ec1c53"
      },
      "outputs": [
        {
          "data": {
            "text/html": [
              "<div>\n",
              "<style scoped>\n",
              "    .dataframe tbody tr th:only-of-type {\n",
              "        vertical-align: middle;\n",
              "    }\n",
              "\n",
              "    .dataframe tbody tr th {\n",
              "        vertical-align: top;\n",
              "    }\n",
              "\n",
              "    .dataframe thead th {\n",
              "        text-align: right;\n",
              "    }\n",
              "</style>\n",
              "<table border=\"1\" class=\"dataframe\">\n",
              "  <thead>\n",
              "    <tr style=\"text-align: right;\">\n",
              "      <th></th>\n",
              "      <th>fruit</th>\n",
              "      <th>color</th>\n",
              "    </tr>\n",
              "  </thead>\n",
              "  <tbody>\n",
              "    <tr>\n",
              "      <th>0</th>\n",
              "      <td>apple</td>\n",
              "      <td>red</td>\n",
              "    </tr>\n",
              "    <tr>\n",
              "      <th>1</th>\n",
              "      <td>orange</td>\n",
              "      <td>orange</td>\n",
              "    </tr>\n",
              "    <tr>\n",
              "      <th>2</th>\n",
              "      <td>banana</td>\n",
              "      <td>yellow</td>\n",
              "    </tr>\n",
              "    <tr>\n",
              "      <th>3</th>\n",
              "      <td>raspberry</td>\n",
              "      <td>pink</td>\n",
              "    </tr>\n",
              "  </tbody>\n",
              "</table>\n",
              "</div>"
            ],
            "text/plain": [
              "       fruit   color\n",
              "0      apple     red\n",
              "1     orange  orange\n",
              "2     banana  yellow\n",
              "3  raspberry    pink"
            ]
          },
          "execution_count": 1,
          "metadata": {},
          "output_type": "execute_result"
        }
      ],
      "source": [
        "import pandas as pd\n",
        "fruit_info = pd.DataFrame(\n",
        "    data={'fruit': ['apple', 'orange', 'banana', 'raspberry'],\n",
        "    'color': ['red', 'orange', 'yellow', 'pink']})\n",
        "fruit_info"
      ]
    },
    {
      "cell_type": "code",
      "execution_count": 2,
      "id": "adjacent-eating",
      "metadata": {
        "id": "adjacent-eating"
      },
      "outputs": [
        {
          "data": {
            "text/html": [
              "<div>\n",
              "<style scoped>\n",
              "    .dataframe tbody tr th:only-of-type {\n",
              "        vertical-align: middle;\n",
              "    }\n",
              "\n",
              "    .dataframe tbody tr th {\n",
              "        vertical-align: top;\n",
              "    }\n",
              "\n",
              "    .dataframe thead th {\n",
              "        text-align: right;\n",
              "    }\n",
              "</style>\n",
              "<table border=\"1\" class=\"dataframe\">\n",
              "  <thead>\n",
              "    <tr style=\"text-align: right;\">\n",
              "      <th></th>\n",
              "      <th>fruit</th>\n",
              "      <th>color</th>\n",
              "      <th>rank1</th>\n",
              "    </tr>\n",
              "  </thead>\n",
              "  <tbody>\n",
              "    <tr>\n",
              "      <th>0</th>\n",
              "      <td>apple</td>\n",
              "      <td>red</td>\n",
              "      <td>2</td>\n",
              "    </tr>\n",
              "    <tr>\n",
              "      <th>1</th>\n",
              "      <td>orange</td>\n",
              "      <td>orange</td>\n",
              "      <td>1</td>\n",
              "    </tr>\n",
              "    <tr>\n",
              "      <th>2</th>\n",
              "      <td>banana</td>\n",
              "      <td>yellow</td>\n",
              "      <td>3</td>\n",
              "    </tr>\n",
              "    <tr>\n",
              "      <th>3</th>\n",
              "      <td>raspberry</td>\n",
              "      <td>pink</td>\n",
              "      <td>4</td>\n",
              "    </tr>\n",
              "  </tbody>\n",
              "</table>\n",
              "</div>"
            ],
            "text/plain": [
              "       fruit   color  rank1\n",
              "0      apple     red      2\n",
              "1     orange  orange      1\n",
              "2     banana  yellow      3\n",
              "3  raspberry    pink      4"
            ]
          },
          "execution_count": 2,
          "metadata": {},
          "output_type": "execute_result"
        }
      ],
      "source": [
        "fruit_info[\"rank1\"] = [2, 1, 3, 4]\n",
        "fruit_info"
      ]
    },
    {
      "cell_type": "markdown",
      "id": "worldwide-bookmark",
      "metadata": {
        "id": "worldwide-bookmark"
      },
      "source": [
        "## Task 2\n",
        "\n",
        "Use the babyNames DataFrame to find the first three names (ordered alphabetically) in Year 2000 that have larger than 3000 counts."
      ]
    },
    {
      "cell_type": "code",
      "execution_count": 3,
      "id": "NKKWP7BK9N7I",
      "metadata": {
        "colab": {
          "base_uri": "https://localhost:8080/",
          "height": 206
        },
        "id": "NKKWP7BK9N7I",
        "outputId": "d898f9ee-5233-4ca1-a83e-b0072e766839"
      },
      "outputs": [
        {
          "data": {
            "text/html": [
              "<div>\n",
              "<style scoped>\n",
              "    .dataframe tbody tr th:only-of-type {\n",
              "        vertical-align: middle;\n",
              "    }\n",
              "\n",
              "    .dataframe tbody tr th {\n",
              "        vertical-align: top;\n",
              "    }\n",
              "\n",
              "    .dataframe thead th {\n",
              "        text-align: right;\n",
              "    }\n",
              "</style>\n",
              "<table border=\"1\" class=\"dataframe\">\n",
              "  <thead>\n",
              "    <tr style=\"text-align: right;\">\n",
              "      <th></th>\n",
              "      <th>Name</th>\n",
              "      <th>Sex</th>\n",
              "      <th>Count</th>\n",
              "      <th>Year</th>\n",
              "    </tr>\n",
              "  </thead>\n",
              "  <tbody>\n",
              "    <tr>\n",
              "      <th>0</th>\n",
              "      <td>Mary</td>\n",
              "      <td>F</td>\n",
              "      <td>7065</td>\n",
              "      <td>1880</td>\n",
              "    </tr>\n",
              "    <tr>\n",
              "      <th>1</th>\n",
              "      <td>Anna</td>\n",
              "      <td>F</td>\n",
              "      <td>2604</td>\n",
              "      <td>1880</td>\n",
              "    </tr>\n",
              "    <tr>\n",
              "      <th>2</th>\n",
              "      <td>Emma</td>\n",
              "      <td>F</td>\n",
              "      <td>2003</td>\n",
              "      <td>1880</td>\n",
              "    </tr>\n",
              "    <tr>\n",
              "      <th>3</th>\n",
              "      <td>Elizabeth</td>\n",
              "      <td>F</td>\n",
              "      <td>1939</td>\n",
              "      <td>1880</td>\n",
              "    </tr>\n",
              "    <tr>\n",
              "      <th>4</th>\n",
              "      <td>Minnie</td>\n",
              "      <td>F</td>\n",
              "      <td>1746</td>\n",
              "      <td>1880</td>\n",
              "    </tr>\n",
              "  </tbody>\n",
              "</table>\n",
              "</div>"
            ],
            "text/plain": [
              "        Name Sex  Count  Year\n",
              "0       Mary   F   7065  1880\n",
              "1       Anna   F   2604  1880\n",
              "2       Emma   F   2003  1880\n",
              "3  Elizabeth   F   1939  1880\n",
              "4     Minnie   F   1746  1880"
            ]
          },
          "execution_count": 3,
          "metadata": {},
          "output_type": "execute_result"
        }
      ],
      "source": [
        "import urllib.request\n",
        "import os.path\n",
        "\n",
        "# Download data from the web directly\n",
        "data_url = \"https://www.ssa.gov/oact/babynames/names.zip\"\n",
        "local_filename = \"babynames.zip\"\n",
        "if not os.path.exists(local_filename): # if the data exists don't download again\n",
        "    with urllib.request.urlopen(data_url) as resp, open(local_filename, 'wb') as f:\n",
        "        f.write(resp.read())\n",
        "\n",
        "# Load data without unzipping the file\n",
        "import zipfile\n",
        "babynames = []\n",
        "with zipfile.ZipFile(local_filename, \"r\") as zf:\n",
        "    data_files = [f for f in zf.filelist if f.filename[-3:] == \"txt\"]\n",
        "    def extract_year_from_filename(fn):\n",
        "        return int(fn[3:7])\n",
        "    for f in data_files:\n",
        "        year = extract_year_from_filename(f.filename)\n",
        "        with zf.open(f) as fp:\n",
        "            df = pd.read_csv(fp, names=[\"Name\", \"Sex\", \"Count\"])\n",
        "            df[\"Year\"] = year\n",
        "            babynames.append(df)\n",
        "babynames = pd.concat(babynames)\n",
        "\n",
        "babynames.head() # show the first few rows"
      ]
    },
    {
      "cell_type": "code",
      "execution_count": 4,
      "id": "imposed-literacy",
      "metadata": {
        "id": "imposed-literacy"
      },
      "outputs": [
        {
          "data": {
            "text/html": [
              "<div>\n",
              "<style scoped>\n",
              "    .dataframe tbody tr th:only-of-type {\n",
              "        vertical-align: middle;\n",
              "    }\n",
              "\n",
              "    .dataframe tbody tr th {\n",
              "        vertical-align: top;\n",
              "    }\n",
              "\n",
              "    .dataframe thead th {\n",
              "        text-align: right;\n",
              "    }\n",
              "</style>\n",
              "<table border=\"1\" class=\"dataframe\">\n",
              "  <thead>\n",
              "    <tr style=\"text-align: right;\">\n",
              "      <th></th>\n",
              "      <th>Name</th>\n",
              "      <th>Sex</th>\n",
              "      <th>Count</th>\n",
              "      <th>Year</th>\n",
              "    </tr>\n",
              "  </thead>\n",
              "  <tbody>\n",
              "    <tr>\n",
              "      <th>17698</th>\n",
              "      <td>Aaron</td>\n",
              "      <td>M</td>\n",
              "      <td>9561</td>\n",
              "      <td>2000</td>\n",
              "    </tr>\n",
              "    <tr>\n",
              "      <th>13</th>\n",
              "      <td>Abigail</td>\n",
              "      <td>F</td>\n",
              "      <td>13093</td>\n",
              "      <td>2000</td>\n",
              "    </tr>\n",
              "    <tr>\n",
              "      <th>17702</th>\n",
              "      <td>Adam</td>\n",
              "      <td>M</td>\n",
              "      <td>8136</td>\n",
              "      <td>2000</td>\n",
              "    </tr>\n",
              "  </tbody>\n",
              "</table>\n",
              "</div>"
            ],
            "text/plain": [
              "          Name Sex  Count  Year\n",
              "17698    Aaron   M   9561  2000\n",
              "13     Abigail   F  13093  2000\n",
              "17702     Adam   M   8136  2000"
            ]
          },
          "execution_count": 4,
          "metadata": {},
          "output_type": "execute_result"
        }
      ],
      "source": [
        "filtered_names = babynames[(babynames[\"Year\"] == 2000) & (babynames[\"Count\"] > 3000)]\n",
        "top_three_names = filtered_names.sort_values(by=\"Name\").head(3)\n",
        "top_three_names"
      ]
    },
    {
      "cell_type": "markdown",
      "id": "cloudy-memorial",
      "metadata": {
        "id": "cloudy-memorial"
      },
      "source": [
        "## Task 3\n",
        "\n",
        "Find the first four names (ordered by Year) that start with “Ma” and ends with “i”."
      ]
    },
    {
      "cell_type": "code",
      "execution_count": 5,
      "id": "durable-motion",
      "metadata": {
        "id": "durable-motion"
      },
      "outputs": [
        {
          "data": {
            "text/html": [
              "<div>\n",
              "<style scoped>\n",
              "    .dataframe tbody tr th:only-of-type {\n",
              "        vertical-align: middle;\n",
              "    }\n",
              "\n",
              "    .dataframe tbody tr th {\n",
              "        vertical-align: top;\n",
              "    }\n",
              "\n",
              "    .dataframe thead th {\n",
              "        text-align: right;\n",
              "    }\n",
              "</style>\n",
              "<table border=\"1\" class=\"dataframe\">\n",
              "  <thead>\n",
              "    <tr style=\"text-align: right;\">\n",
              "      <th></th>\n",
              "      <th>Name</th>\n",
              "      <th>Sex</th>\n",
              "      <th>Count</th>\n",
              "      <th>Year</th>\n",
              "    </tr>\n",
              "  </thead>\n",
              "  <tbody>\n",
              "    <tr>\n",
              "      <th>803</th>\n",
              "      <td>Mai</td>\n",
              "      <td>F</td>\n",
              "      <td>6</td>\n",
              "      <td>1880</td>\n",
              "    </tr>\n",
              "    <tr>\n",
              "      <th>1565</th>\n",
              "      <td>Malachi</td>\n",
              "      <td>M</td>\n",
              "      <td>10</td>\n",
              "      <td>1880</td>\n",
              "    </tr>\n",
              "    <tr>\n",
              "      <th>791</th>\n",
              "      <td>Mai</td>\n",
              "      <td>F</td>\n",
              "      <td>6</td>\n",
              "      <td>1881</td>\n",
              "    </tr>\n",
              "    <tr>\n",
              "      <th>1897</th>\n",
              "      <td>Malachi</td>\n",
              "      <td>M</td>\n",
              "      <td>5</td>\n",
              "      <td>1881</td>\n",
              "    </tr>\n",
              "  </tbody>\n",
              "</table>\n",
              "</div>"
            ],
            "text/plain": [
              "         Name Sex  Count  Year\n",
              "803       Mai   F      6  1880\n",
              "1565  Malachi   M     10  1880\n",
              "791       Mai   F      6  1881\n",
              "1897  Malachi   M      5  1881"
            ]
          },
          "execution_count": 5,
          "metadata": {},
          "output_type": "execute_result"
        }
      ],
      "source": [
        "filtered_names2 = babynames[(babynames[\"Name\"].str.startswith(\"Ma\")) & (babynames[\"Name\"].str.endswith(\"i\"))]\n",
        "top_four_names = filtered_names2.sort_values(by=\"Year\").head(4)\n",
        "top_four_names"
      ]
    },
    {
      "cell_type": "markdown",
      "id": "timely-rings",
      "metadata": {
        "id": "timely-rings"
      },
      "source": [
        "## Task 4\n",
        "\n",
        "Plot the popularity of the name Hillary over time."
      ]
    },
    {
      "cell_type": "code",
      "execution_count": 6,
      "id": "cardiovascular-academy",
      "metadata": {
        "id": "cardiovascular-academy"
      },
      "outputs": [
        {
          "data": {
            "application/vnd.plotly.v1+json": {
              "config": {
                "plotlyServerURL": "https://plot.ly"
              },
              "data": [
                {
                  "hovertemplate": "Year=%{x}<br>Count=%{y}<extra></extra>",
                  "legendgroup": "",
                  "line": {
                    "color": "#636efa",
                    "dash": "solid"
                  },
                  "marker": {
                    "symbol": "circle"
                  },
                  "mode": "lines",
                  "name": "",
                  "orientation": "v",
                  "showlegend": false,
                  "type": "scatter",
                  "x": [
                    1888,
                    1889,
                    1890,
                    1897,
                    1898,
                    1903,
                    1907,
                    1908,
                    1909,
                    1910,
                    1911,
                    1912,
                    1913,
                    1914,
                    1915,
                    1916,
                    1917,
                    1918,
                    1919,
                    1920,
                    1921,
                    1922,
                    1922,
                    1923,
                    1924,
                    1925,
                    1926,
                    1927,
                    1928,
                    1929,
                    1930,
                    1931,
                    1932,
                    1933,
                    1934,
                    1935,
                    1936,
                    1937,
                    1938,
                    1939,
                    1940,
                    1941,
                    1942,
                    1942,
                    1943,
                    1943,
                    1944,
                    1944,
                    1945,
                    1945,
                    1946,
                    1946,
                    1947,
                    1947,
                    1948,
                    1948,
                    1949,
                    1949,
                    1950,
                    1950,
                    1951,
                    1951,
                    1952,
                    1952,
                    1953,
                    1953,
                    1954,
                    1954,
                    1955,
                    1955,
                    1956,
                    1956,
                    1957,
                    1957,
                    1958,
                    1958,
                    1959,
                    1959,
                    1960,
                    1960,
                    1961,
                    1961,
                    1962,
                    1962,
                    1963,
                    1963,
                    1964,
                    1964,
                    1965,
                    1965,
                    1966,
                    1966,
                    1967,
                    1967,
                    1968,
                    1968,
                    1969,
                    1969,
                    1970,
                    1970,
                    1971,
                    1971,
                    1972,
                    1972,
                    1973,
                    1973,
                    1974,
                    1974,
                    1975,
                    1975,
                    1976,
                    1976,
                    1977,
                    1977,
                    1978,
                    1978,
                    1979,
                    1979,
                    1980,
                    1980,
                    1981,
                    1981,
                    1982,
                    1982,
                    1983,
                    1983,
                    1984,
                    1984,
                    1985,
                    1985,
                    1986,
                    1986,
                    1987,
                    1987,
                    1988,
                    1988,
                    1989,
                    1989,
                    1990,
                    1991,
                    1991,
                    1992,
                    1992,
                    1993,
                    1993,
                    1994,
                    1994,
                    1995,
                    1996,
                    1997,
                    1998,
                    1999,
                    1999,
                    2000,
                    2001,
                    2002,
                    2002,
                    2003,
                    2003,
                    2004,
                    2005,
                    2006,
                    2007,
                    2008,
                    2008,
                    2009,
                    2010,
                    2011,
                    2012,
                    2013,
                    2014,
                    2015,
                    2016,
                    2017,
                    2018,
                    2019,
                    2020,
                    2021,
                    2022
                  ],
                  "xaxis": "x",
                  "y": [
                    6,
                    5,
                    5,
                    6,
                    9,
                    6,
                    7,
                    6,
                    7,
                    5,
                    9,
                    6,
                    10,
                    9,
                    18,
                    12,
                    15,
                    18,
                    15,
                    18,
                    21,
                    5,
                    18,
                    19,
                    12,
                    20,
                    21,
                    24,
                    24,
                    15,
                    19,
                    14,
                    15,
                    13,
                    14,
                    7,
                    7,
                    15,
                    19,
                    18,
                    19,
                    18,
                    7,
                    14,
                    13,
                    8,
                    19,
                    17,
                    19,
                    16,
                    29,
                    20,
                    51,
                    14,
                    43,
                    19,
                    48,
                    13,
                    54,
                    20,
                    40,
                    18,
                    43,
                    16,
                    58,
                    20,
                    77,
                    27,
                    71,
                    23,
                    99,
                    13,
                    89,
                    17,
                    94,
                    22,
                    83,
                    11,
                    75,
                    16,
                    111,
                    17,
                    112,
                    17,
                    148,
                    18,
                    132,
                    8,
                    111,
                    15,
                    124,
                    15,
                    155,
                    8,
                    178,
                    13,
                    198,
                    14,
                    257,
                    11,
                    251,
                    13,
                    243,
                    15,
                    252,
                    7,
                    312,
                    10,
                    322,
                    10,
                    331,
                    9,
                    442,
                    12,
                    719,
                    19,
                    921,
                    13,
                    835,
                    11,
                    735,
                    14,
                    754,
                    6,
                    697,
                    5,
                    1009,
                    6,
                    1047,
                    12,
                    1083,
                    11,
                    1079,
                    10,
                    1084,
                    13,
                    1284,
                    14,
                    1525,
                    1790,
                    5,
                    2521,
                    7,
                    1064,
                    7,
                    409,
                    7,
                    310,
                    312,
                    294,
                    243,
                    254,
                    5,
                    252,
                    259,
                    197,
                    5,
                    224,
                    6,
                    311,
                    285,
                    265,
                    282,
                    412,
                    6,
                    200,
                    168,
                    166,
                    157,
                    154,
                    177,
                    138,
                    172,
                    63,
                    49,
                    45,
                    52,
                    60,
                    73
                  ],
                  "yaxis": "y"
                }
              ],
              "layout": {
                "legend": {
                  "tracegroupgap": 0
                },
                "template": {
                  "data": {
                    "bar": [
                      {
                        "error_x": {
                          "color": "#2a3f5f"
                        },
                        "error_y": {
                          "color": "#2a3f5f"
                        },
                        "marker": {
                          "line": {
                            "color": "#E5ECF6",
                            "width": 0.5
                          },
                          "pattern": {
                            "fillmode": "overlay",
                            "size": 10,
                            "solidity": 0.2
                          }
                        },
                        "type": "bar"
                      }
                    ],
                    "barpolar": [
                      {
                        "marker": {
                          "line": {
                            "color": "#E5ECF6",
                            "width": 0.5
                          },
                          "pattern": {
                            "fillmode": "overlay",
                            "size": 10,
                            "solidity": 0.2
                          }
                        },
                        "type": "barpolar"
                      }
                    ],
                    "carpet": [
                      {
                        "aaxis": {
                          "endlinecolor": "#2a3f5f",
                          "gridcolor": "white",
                          "linecolor": "white",
                          "minorgridcolor": "white",
                          "startlinecolor": "#2a3f5f"
                        },
                        "baxis": {
                          "endlinecolor": "#2a3f5f",
                          "gridcolor": "white",
                          "linecolor": "white",
                          "minorgridcolor": "white",
                          "startlinecolor": "#2a3f5f"
                        },
                        "type": "carpet"
                      }
                    ],
                    "choropleth": [
                      {
                        "colorbar": {
                          "outlinewidth": 0,
                          "ticks": ""
                        },
                        "type": "choropleth"
                      }
                    ],
                    "contour": [
                      {
                        "colorbar": {
                          "outlinewidth": 0,
                          "ticks": ""
                        },
                        "colorscale": [
                          [
                            0,
                            "#0d0887"
                          ],
                          [
                            0.1111111111111111,
                            "#46039f"
                          ],
                          [
                            0.2222222222222222,
                            "#7201a8"
                          ],
                          [
                            0.3333333333333333,
                            "#9c179e"
                          ],
                          [
                            0.4444444444444444,
                            "#bd3786"
                          ],
                          [
                            0.5555555555555556,
                            "#d8576b"
                          ],
                          [
                            0.6666666666666666,
                            "#ed7953"
                          ],
                          [
                            0.7777777777777778,
                            "#fb9f3a"
                          ],
                          [
                            0.8888888888888888,
                            "#fdca26"
                          ],
                          [
                            1,
                            "#f0f921"
                          ]
                        ],
                        "type": "contour"
                      }
                    ],
                    "contourcarpet": [
                      {
                        "colorbar": {
                          "outlinewidth": 0,
                          "ticks": ""
                        },
                        "type": "contourcarpet"
                      }
                    ],
                    "heatmap": [
                      {
                        "colorbar": {
                          "outlinewidth": 0,
                          "ticks": ""
                        },
                        "colorscale": [
                          [
                            0,
                            "#0d0887"
                          ],
                          [
                            0.1111111111111111,
                            "#46039f"
                          ],
                          [
                            0.2222222222222222,
                            "#7201a8"
                          ],
                          [
                            0.3333333333333333,
                            "#9c179e"
                          ],
                          [
                            0.4444444444444444,
                            "#bd3786"
                          ],
                          [
                            0.5555555555555556,
                            "#d8576b"
                          ],
                          [
                            0.6666666666666666,
                            "#ed7953"
                          ],
                          [
                            0.7777777777777778,
                            "#fb9f3a"
                          ],
                          [
                            0.8888888888888888,
                            "#fdca26"
                          ],
                          [
                            1,
                            "#f0f921"
                          ]
                        ],
                        "type": "heatmap"
                      }
                    ],
                    "heatmapgl": [
                      {
                        "colorbar": {
                          "outlinewidth": 0,
                          "ticks": ""
                        },
                        "colorscale": [
                          [
                            0,
                            "#0d0887"
                          ],
                          [
                            0.1111111111111111,
                            "#46039f"
                          ],
                          [
                            0.2222222222222222,
                            "#7201a8"
                          ],
                          [
                            0.3333333333333333,
                            "#9c179e"
                          ],
                          [
                            0.4444444444444444,
                            "#bd3786"
                          ],
                          [
                            0.5555555555555556,
                            "#d8576b"
                          ],
                          [
                            0.6666666666666666,
                            "#ed7953"
                          ],
                          [
                            0.7777777777777778,
                            "#fb9f3a"
                          ],
                          [
                            0.8888888888888888,
                            "#fdca26"
                          ],
                          [
                            1,
                            "#f0f921"
                          ]
                        ],
                        "type": "heatmapgl"
                      }
                    ],
                    "histogram": [
                      {
                        "marker": {
                          "pattern": {
                            "fillmode": "overlay",
                            "size": 10,
                            "solidity": 0.2
                          }
                        },
                        "type": "histogram"
                      }
                    ],
                    "histogram2d": [
                      {
                        "colorbar": {
                          "outlinewidth": 0,
                          "ticks": ""
                        },
                        "colorscale": [
                          [
                            0,
                            "#0d0887"
                          ],
                          [
                            0.1111111111111111,
                            "#46039f"
                          ],
                          [
                            0.2222222222222222,
                            "#7201a8"
                          ],
                          [
                            0.3333333333333333,
                            "#9c179e"
                          ],
                          [
                            0.4444444444444444,
                            "#bd3786"
                          ],
                          [
                            0.5555555555555556,
                            "#d8576b"
                          ],
                          [
                            0.6666666666666666,
                            "#ed7953"
                          ],
                          [
                            0.7777777777777778,
                            "#fb9f3a"
                          ],
                          [
                            0.8888888888888888,
                            "#fdca26"
                          ],
                          [
                            1,
                            "#f0f921"
                          ]
                        ],
                        "type": "histogram2d"
                      }
                    ],
                    "histogram2dcontour": [
                      {
                        "colorbar": {
                          "outlinewidth": 0,
                          "ticks": ""
                        },
                        "colorscale": [
                          [
                            0,
                            "#0d0887"
                          ],
                          [
                            0.1111111111111111,
                            "#46039f"
                          ],
                          [
                            0.2222222222222222,
                            "#7201a8"
                          ],
                          [
                            0.3333333333333333,
                            "#9c179e"
                          ],
                          [
                            0.4444444444444444,
                            "#bd3786"
                          ],
                          [
                            0.5555555555555556,
                            "#d8576b"
                          ],
                          [
                            0.6666666666666666,
                            "#ed7953"
                          ],
                          [
                            0.7777777777777778,
                            "#fb9f3a"
                          ],
                          [
                            0.8888888888888888,
                            "#fdca26"
                          ],
                          [
                            1,
                            "#f0f921"
                          ]
                        ],
                        "type": "histogram2dcontour"
                      }
                    ],
                    "mesh3d": [
                      {
                        "colorbar": {
                          "outlinewidth": 0,
                          "ticks": ""
                        },
                        "type": "mesh3d"
                      }
                    ],
                    "parcoords": [
                      {
                        "line": {
                          "colorbar": {
                            "outlinewidth": 0,
                            "ticks": ""
                          }
                        },
                        "type": "parcoords"
                      }
                    ],
                    "pie": [
                      {
                        "automargin": true,
                        "type": "pie"
                      }
                    ],
                    "scatter": [
                      {
                        "fillpattern": {
                          "fillmode": "overlay",
                          "size": 10,
                          "solidity": 0.2
                        },
                        "type": "scatter"
                      }
                    ],
                    "scatter3d": [
                      {
                        "line": {
                          "colorbar": {
                            "outlinewidth": 0,
                            "ticks": ""
                          }
                        },
                        "marker": {
                          "colorbar": {
                            "outlinewidth": 0,
                            "ticks": ""
                          }
                        },
                        "type": "scatter3d"
                      }
                    ],
                    "scattercarpet": [
                      {
                        "marker": {
                          "colorbar": {
                            "outlinewidth": 0,
                            "ticks": ""
                          }
                        },
                        "type": "scattercarpet"
                      }
                    ],
                    "scattergeo": [
                      {
                        "marker": {
                          "colorbar": {
                            "outlinewidth": 0,
                            "ticks": ""
                          }
                        },
                        "type": "scattergeo"
                      }
                    ],
                    "scattergl": [
                      {
                        "marker": {
                          "colorbar": {
                            "outlinewidth": 0,
                            "ticks": ""
                          }
                        },
                        "type": "scattergl"
                      }
                    ],
                    "scattermapbox": [
                      {
                        "marker": {
                          "colorbar": {
                            "outlinewidth": 0,
                            "ticks": ""
                          }
                        },
                        "type": "scattermapbox"
                      }
                    ],
                    "scatterpolar": [
                      {
                        "marker": {
                          "colorbar": {
                            "outlinewidth": 0,
                            "ticks": ""
                          }
                        },
                        "type": "scatterpolar"
                      }
                    ],
                    "scatterpolargl": [
                      {
                        "marker": {
                          "colorbar": {
                            "outlinewidth": 0,
                            "ticks": ""
                          }
                        },
                        "type": "scatterpolargl"
                      }
                    ],
                    "scatterternary": [
                      {
                        "marker": {
                          "colorbar": {
                            "outlinewidth": 0,
                            "ticks": ""
                          }
                        },
                        "type": "scatterternary"
                      }
                    ],
                    "surface": [
                      {
                        "colorbar": {
                          "outlinewidth": 0,
                          "ticks": ""
                        },
                        "colorscale": [
                          [
                            0,
                            "#0d0887"
                          ],
                          [
                            0.1111111111111111,
                            "#46039f"
                          ],
                          [
                            0.2222222222222222,
                            "#7201a8"
                          ],
                          [
                            0.3333333333333333,
                            "#9c179e"
                          ],
                          [
                            0.4444444444444444,
                            "#bd3786"
                          ],
                          [
                            0.5555555555555556,
                            "#d8576b"
                          ],
                          [
                            0.6666666666666666,
                            "#ed7953"
                          ],
                          [
                            0.7777777777777778,
                            "#fb9f3a"
                          ],
                          [
                            0.8888888888888888,
                            "#fdca26"
                          ],
                          [
                            1,
                            "#f0f921"
                          ]
                        ],
                        "type": "surface"
                      }
                    ],
                    "table": [
                      {
                        "cells": {
                          "fill": {
                            "color": "#EBF0F8"
                          },
                          "line": {
                            "color": "white"
                          }
                        },
                        "header": {
                          "fill": {
                            "color": "#C8D4E3"
                          },
                          "line": {
                            "color": "white"
                          }
                        },
                        "type": "table"
                      }
                    ]
                  },
                  "layout": {
                    "annotationdefaults": {
                      "arrowcolor": "#2a3f5f",
                      "arrowhead": 0,
                      "arrowwidth": 1
                    },
                    "autotypenumbers": "strict",
                    "coloraxis": {
                      "colorbar": {
                        "outlinewidth": 0,
                        "ticks": ""
                      }
                    },
                    "colorscale": {
                      "diverging": [
                        [
                          0,
                          "#8e0152"
                        ],
                        [
                          0.1,
                          "#c51b7d"
                        ],
                        [
                          0.2,
                          "#de77ae"
                        ],
                        [
                          0.3,
                          "#f1b6da"
                        ],
                        [
                          0.4,
                          "#fde0ef"
                        ],
                        [
                          0.5,
                          "#f7f7f7"
                        ],
                        [
                          0.6,
                          "#e6f5d0"
                        ],
                        [
                          0.7,
                          "#b8e186"
                        ],
                        [
                          0.8,
                          "#7fbc41"
                        ],
                        [
                          0.9,
                          "#4d9221"
                        ],
                        [
                          1,
                          "#276419"
                        ]
                      ],
                      "sequential": [
                        [
                          0,
                          "#0d0887"
                        ],
                        [
                          0.1111111111111111,
                          "#46039f"
                        ],
                        [
                          0.2222222222222222,
                          "#7201a8"
                        ],
                        [
                          0.3333333333333333,
                          "#9c179e"
                        ],
                        [
                          0.4444444444444444,
                          "#bd3786"
                        ],
                        [
                          0.5555555555555556,
                          "#d8576b"
                        ],
                        [
                          0.6666666666666666,
                          "#ed7953"
                        ],
                        [
                          0.7777777777777778,
                          "#fb9f3a"
                        ],
                        [
                          0.8888888888888888,
                          "#fdca26"
                        ],
                        [
                          1,
                          "#f0f921"
                        ]
                      ],
                      "sequentialminus": [
                        [
                          0,
                          "#0d0887"
                        ],
                        [
                          0.1111111111111111,
                          "#46039f"
                        ],
                        [
                          0.2222222222222222,
                          "#7201a8"
                        ],
                        [
                          0.3333333333333333,
                          "#9c179e"
                        ],
                        [
                          0.4444444444444444,
                          "#bd3786"
                        ],
                        [
                          0.5555555555555556,
                          "#d8576b"
                        ],
                        [
                          0.6666666666666666,
                          "#ed7953"
                        ],
                        [
                          0.7777777777777778,
                          "#fb9f3a"
                        ],
                        [
                          0.8888888888888888,
                          "#fdca26"
                        ],
                        [
                          1,
                          "#f0f921"
                        ]
                      ]
                    },
                    "colorway": [
                      "#636efa",
                      "#EF553B",
                      "#00cc96",
                      "#ab63fa",
                      "#FFA15A",
                      "#19d3f3",
                      "#FF6692",
                      "#B6E880",
                      "#FF97FF",
                      "#FECB52"
                    ],
                    "font": {
                      "color": "#2a3f5f"
                    },
                    "geo": {
                      "bgcolor": "white",
                      "lakecolor": "white",
                      "landcolor": "#E5ECF6",
                      "showlakes": true,
                      "showland": true,
                      "subunitcolor": "white"
                    },
                    "hoverlabel": {
                      "align": "left"
                    },
                    "hovermode": "closest",
                    "mapbox": {
                      "style": "light"
                    },
                    "paper_bgcolor": "white",
                    "plot_bgcolor": "#E5ECF6",
                    "polar": {
                      "angularaxis": {
                        "gridcolor": "white",
                        "linecolor": "white",
                        "ticks": ""
                      },
                      "bgcolor": "#E5ECF6",
                      "radialaxis": {
                        "gridcolor": "white",
                        "linecolor": "white",
                        "ticks": ""
                      }
                    },
                    "scene": {
                      "xaxis": {
                        "backgroundcolor": "#E5ECF6",
                        "gridcolor": "white",
                        "gridwidth": 2,
                        "linecolor": "white",
                        "showbackground": true,
                        "ticks": "",
                        "zerolinecolor": "white"
                      },
                      "yaxis": {
                        "backgroundcolor": "#E5ECF6",
                        "gridcolor": "white",
                        "gridwidth": 2,
                        "linecolor": "white",
                        "showbackground": true,
                        "ticks": "",
                        "zerolinecolor": "white"
                      },
                      "zaxis": {
                        "backgroundcolor": "#E5ECF6",
                        "gridcolor": "white",
                        "gridwidth": 2,
                        "linecolor": "white",
                        "showbackground": true,
                        "ticks": "",
                        "zerolinecolor": "white"
                      }
                    },
                    "shapedefaults": {
                      "line": {
                        "color": "#2a3f5f"
                      }
                    },
                    "ternary": {
                      "aaxis": {
                        "gridcolor": "white",
                        "linecolor": "white",
                        "ticks": ""
                      },
                      "baxis": {
                        "gridcolor": "white",
                        "linecolor": "white",
                        "ticks": ""
                      },
                      "bgcolor": "#E5ECF6",
                      "caxis": {
                        "gridcolor": "white",
                        "linecolor": "white",
                        "ticks": ""
                      }
                    },
                    "title": {
                      "x": 0.05
                    },
                    "xaxis": {
                      "automargin": true,
                      "gridcolor": "white",
                      "linecolor": "white",
                      "ticks": "",
                      "title": {
                        "standoff": 15
                      },
                      "zerolinecolor": "white",
                      "zerolinewidth": 2
                    },
                    "yaxis": {
                      "automargin": true,
                      "gridcolor": "white",
                      "linecolor": "white",
                      "ticks": "",
                      "title": {
                        "standoff": 15
                      },
                      "zerolinecolor": "white",
                      "zerolinewidth": 2
                    }
                  }
                },
                "title": {
                  "text": "Popularity of \"Hillary\" over time"
                },
                "xaxis": {
                  "anchor": "y",
                  "domain": [
                    0,
                    1
                  ],
                  "title": {
                    "text": "Year"
                  }
                },
                "yaxis": {
                  "anchor": "x",
                  "domain": [
                    0,
                    1
                  ],
                  "title": {
                    "text": "Count"
                  }
                }
              }
            }
          },
          "metadata": {},
          "output_type": "display_data"
        }
      ],
      "source": [
        "import plotly.express as px\n",
        "px.line(babynames.query(\"Name == 'Hillary'\"), x = \"Year\", y = \"Count\", title = 'Popularity of \"Hillary\" over time')\n"
      ]
    },
    {
      "cell_type": "markdown",
      "id": "collected-vintage",
      "metadata": {
        "id": "collected-vintage"
      },
      "source": [
        "## Task 5\n",
        "\n",
        "Find unisex baby names (i.e., names that are used by females and males)."
      ]
    },
    {
      "cell_type": "code",
      "execution_count": 7,
      "id": "expanded-norfolk",
      "metadata": {
        "id": "expanded-norfolk"
      },
      "outputs": [
        {
          "data": {
            "text/plain": [
              "['Aaden',\n",
              " 'Aadi',\n",
              " 'Aadyn',\n",
              " 'Aalijah',\n",
              " 'Aaliyah',\n",
              " 'Aaliyan',\n",
              " 'Aamari',\n",
              " 'Aamir',\n",
              " 'Aaren',\n",
              " 'Aareon',\n",
              " 'Aari',\n",
              " 'Aarian',\n",
              " 'Aarin',\n",
              " 'Aarion',\n",
              " 'Aaris',\n",
              " 'Aaron',\n",
              " 'Aarya',\n",
              " 'Aaryan',\n",
              " 'Aaryn',\n",
              " 'Aavyn',\n",
              " 'Aayden',\n",
              " 'Aba',\n",
              " 'Abba',\n",
              " 'Abbey',\n",
              " 'Abbie',\n",
              " 'Abbigail',\n",
              " 'Abbott',\n",
              " 'Abby',\n",
              " 'Abdi',\n",
              " 'Abeer',\n",
              " 'Abel',\n",
              " 'Abell',\n",
              " 'Abey',\n",
              " 'Abi',\n",
              " 'Abiah',\n",
              " 'Abie',\n",
              " 'Abiel',\n",
              " 'Abigael',\n",
              " 'Abigail',\n",
              " 'Abigayle',\n",
              " 'Abijah',\n",
              " 'Abimbola',\n",
              " 'Abiola',\n",
              " 'Abir',\n",
              " 'Abisai',\n",
              " 'Abishai',\n",
              " 'Abiyah',\n",
              " 'Abney',\n",
              " 'Abraham',\n",
              " 'Abrar',\n",
              " 'Abraxas',\n",
              " 'Abrian',\n",
              " 'Abriel',\n",
              " 'Abril',\n",
              " 'Aby',\n",
              " 'Abyan',\n",
              " 'Acai',\n",
              " 'Acari',\n",
              " 'Ace',\n",
              " 'Acea',\n",
              " 'Acelin',\n",
              " 'Acelyn',\n",
              " 'Acey',\n",
              " 'Acie',\n",
              " 'Acire',\n",
              " 'Ackley',\n",
              " 'Acy',\n",
              " 'Ada',\n",
              " 'Adae',\n",
              " 'Adaiah',\n",
              " 'Adair',\n",
              " 'Adali',\n",
              " 'Adalid',\n",
              " 'Adam',\n",
              " 'Adama',\n",
              " 'Adan',\n",
              " 'Adar',\n",
              " 'Adason',\n",
              " 'Addie',\n",
              " 'Addilyn',\n",
              " 'Addington',\n",
              " 'Addis',\n",
              " 'Addisen',\n",
              " 'Addison',\n",
              " 'Addy',\n",
              " 'Addyson',\n",
              " 'Ade',\n",
              " 'Adean',\n",
              " 'Adebola',\n",
              " 'Adedoyin',\n",
              " 'Adel',\n",
              " 'Adele',\n",
              " 'Adeline',\n",
              " 'Adell',\n",
              " 'Adelyn',\n",
              " 'Ademide',\n",
              " 'Aden',\n",
              " 'Adeola',\n",
              " 'Adetokunbo',\n",
              " 'Adeyemi',\n",
              " 'Adeyinka',\n",
              " 'Adgie',\n",
              " 'Adi',\n",
              " 'Adie',\n",
              " 'Adiel',\n",
              " 'Adilene',\n",
              " 'Adin',\n",
              " 'Adis',\n",
              " 'Adisa',\n",
              " 'Adison',\n",
              " 'Adisson',\n",
              " 'Aditya',\n",
              " 'Adlai',\n",
              " 'Adler',\n",
              " 'Adley',\n",
              " 'Adly',\n",
              " 'Admire',\n",
              " 'Adna',\n",
              " 'Adolfo',\n",
              " 'Adolph',\n",
              " 'Adonai',\n",
              " 'Adoniah',\n",
              " 'Adonijah',\n",
              " 'Adonis',\n",
              " 'Adoniyah',\n",
              " 'Ador',\n",
              " 'Adore',\n",
              " 'Adoree',\n",
              " 'Adrain',\n",
              " 'Adraine',\n",
              " 'Adream',\n",
              " 'Adrean',\n",
              " 'Adri',\n",
              " 'Adria',\n",
              " 'Adrian',\n",
              " 'Adriana',\n",
              " 'Adriane',\n",
              " 'Adriann',\n",
              " 'Adrianna',\n",
              " 'Adrianne',\n",
              " 'Adriel',\n",
              " 'Adrien',\n",
              " 'Adriene',\n",
              " 'Adrienn',\n",
              " 'Adrienne',\n",
              " 'Adrin',\n",
              " 'Adrine',\n",
              " 'Adryan',\n",
              " 'Adryn',\n",
              " 'Adyn',\n",
              " 'Adynn',\n",
              " 'Adyson',\n",
              " 'Aedan',\n",
              " 'Aeden',\n",
              " 'Aedyn',\n",
              " 'Aeon',\n",
              " 'Aerial',\n",
              " 'Aerian',\n",
              " 'Aerin',\n",
              " 'Aerion',\n",
              " 'Aeris',\n",
              " 'Aero',\n",
              " 'Aeron',\n",
              " 'Aeryn',\n",
              " 'Aerys',\n",
              " 'Afnan',\n",
              " 'Afsheen',\n",
              " 'Afton',\n",
              " 'Agam',\n",
              " 'Agape',\n",
              " 'Aggie',\n",
              " 'Agnes',\n",
              " 'Agusta',\n",
              " 'Agustin',\n",
              " 'Ah',\n",
              " 'Ahanna',\n",
              " 'Ahari',\n",
              " 'Ahmad',\n",
              " 'Ahmani',\n",
              " 'Ahmari',\n",
              " 'Ahmi',\n",
              " 'Ahmir',\n",
              " 'Ahmiri',\n",
              " 'Ai',\n",
              " 'Aida',\n",
              " 'Aidan',\n",
              " 'Aideen',\n",
              " 'Aiden',\n",
              " 'Aidin',\n",
              " 'Aidyn',\n",
              " 'Aidynn',\n",
              " 'Aijalon',\n",
              " 'Aiko',\n",
              " 'Aileen',\n",
              " 'Ailen',\n",
              " 'Ailin',\n",
              " 'Aiman',\n",
              " 'Aimar',\n",
              " 'Aime',\n",
              " 'Aimee',\n",
              " 'Aimen',\n",
              " 'Ainsley',\n",
              " 'Airam',\n",
              " 'Airen',\n",
              " 'Aireon',\n",
              " 'Aires',\n",
              " 'Airin',\n",
              " 'Airis',\n",
              " 'Airon',\n",
              " 'Airyn',\n",
              " 'Aisa',\n",
              " 'Aisha',\n",
              " 'Aivan',\n",
              " 'Aiven',\n",
              " 'Aizel',\n",
              " 'Aj',\n",
              " 'Aja',\n",
              " 'Ajae',\n",
              " 'Ajai',\n",
              " 'Ajalon',\n",
              " 'Ajani',\n",
              " 'Ajay',\n",
              " 'Ajaye',\n",
              " 'Ajee',\n",
              " 'Ajene',\n",
              " 'Akai',\n",
              " 'Akanni',\n",
              " 'Akari',\n",
              " 'Akarri',\n",
              " 'Akela',\n",
              " 'Akemi',\n",
              " 'Akera',\n",
              " 'Akhari',\n",
              " 'Aki',\n",
              " 'Akia',\n",
              " 'Akiba',\n",
              " 'Akida',\n",
              " 'Akie',\n",
              " 'Akili',\n",
              " 'Akira',\n",
              " 'Akiva',\n",
              " 'Ako',\n",
              " 'Akon',\n",
              " 'Al',\n",
              " 'Ala',\n",
              " 'Alaa',\n",
              " 'Alai',\n",
              " 'Alaia',\n",
              " 'Alaijah',\n",
              " 'Alain',\n",
              " 'Alaina',\n",
              " 'Alan',\n",
              " 'Alana',\n",
              " 'Alani',\n",
              " 'Alanna',\n",
              " 'Alante',\n",
              " 'Alaska',\n",
              " 'Alayan',\n",
              " 'Alaye',\n",
              " 'Alayna',\n",
              " 'Alba',\n",
              " 'Albany',\n",
              " 'Albee',\n",
              " 'Albert',\n",
              " 'Alberta',\n",
              " 'Alberto',\n",
              " 'Albie',\n",
              " 'Alby',\n",
              " 'Alchemy',\n",
              " 'Alcie',\n",
              " 'Alda',\n",
              " 'Aldean',\n",
              " 'Alden',\n",
              " 'Aldene',\n",
              " 'Alder',\n",
              " 'Aldie',\n",
              " 'Aldine',\n",
              " 'Aldo',\n",
              " 'Aldyn',\n",
              " 'Ale',\n",
              " 'Alec',\n",
              " 'Alee',\n",
              " 'Alejandra',\n",
              " 'Alejandro',\n",
              " 'Alek',\n",
              " 'Aleksa',\n",
              " 'Aleksei',\n",
              " 'Aleksey',\n",
              " 'Aleksi',\n",
              " 'Aleksis',\n",
              " 'Alema',\n",
              " 'Alene',\n",
              " 'Aleph',\n",
              " 'Alesha',\n",
              " 'Alex',\n",
              " 'Alexa',\n",
              " 'Alexander',\n",
              " 'Alexandr',\n",
              " 'Alexandra',\n",
              " 'Alexandre',\n",
              " 'Alexandria',\n",
              " 'Alexcis',\n",
              " 'Alexei',\n",
              " 'Alexes',\n",
              " 'Alexey',\n",
              " 'Alexi',\n",
              " 'Alexia',\n",
              " 'Alexie',\n",
              " 'Alexiel',\n",
              " 'Alexis',\n",
              " 'Alexiss',\n",
              " 'Alexius',\n",
              " 'Alexix',\n",
              " 'Alexiz',\n",
              " 'Alexsis',\n",
              " 'Alexus',\n",
              " 'Alexx',\n",
              " 'Alexxis',\n",
              " 'Alexy',\n",
              " 'Alexys',\n",
              " 'Aley',\n",
              " 'Alfa',\n",
              " 'Alfie',\n",
              " 'Alfonsa',\n",
              " 'Alfonso',\n",
              " 'Alford',\n",
              " 'Alfred',\n",
              " 'Alfreda',\n",
              " 'Alfredo',\n",
              " 'Alga',\n",
              " 'Algene',\n",
              " 'Algia',\n",
              " 'Algie',\n",
              " 'Ali',\n",
              " 'Alice',\n",
              " 'Alicia',\n",
              " 'Alie',\n",
              " 'Alii',\n",
              " 'Alija',\n",
              " 'Alijah',\n",
              " 'Alijha',\n",
              " 'Alik',\n",
              " 'Alika',\n",
              " 'Alin',\n",
              " 'Aline',\n",
              " 'Alique',\n",
              " 'Alis',\n",
              " 'Alisa',\n",
              " 'Alisha',\n",
              " 'Alishah',\n",
              " 'Alison',\n",
              " 'Alissa',\n",
              " 'Alisson',\n",
              " 'Alister',\n",
              " 'Alivia',\n",
              " 'Alix',\n",
              " 'Aliyah',\n",
              " 'Aliyan',\n",
              " 'Aliza',\n",
              " 'Alizae',\n",
              " 'Alizah',\n",
              " 'Alizay',\n",
              " 'Alize',\n",
              " 'Alla',\n",
              " 'Allah',\n",
              " 'Allan',\n",
              " 'Allante',\n",
              " 'Allen',\n",
              " 'Allene',\n",
              " 'Allex',\n",
              " 'Alley',\n",
              " 'Alli',\n",
              " 'Allie',\n",
              " 'Allison',\n",
              " 'Allister',\n",
              " 'Allure',\n",
              " 'Ally',\n",
              " 'Allyn',\n",
              " 'Allyson',\n",
              " 'Alma',\n",
              " 'Almar',\n",
              " 'Almas',\n",
              " 'Almer',\n",
              " 'Almo',\n",
              " 'Almon',\n",
              " 'Alo',\n",
              " 'Alohi',\n",
              " 'Alois',\n",
              " 'Aloise',\n",
              " 'Alon',\n",
              " 'Alondra',\n",
              " 'Alonte',\n",
              " 'Alonza',\n",
              " 'Alonzia',\n",
              " 'Alonzo',\n",
              " 'Alpha',\n",
              " 'Alphonso',\n",
              " 'Alston',\n",
              " 'Alta',\n",
              " 'Altair',\n",
              " 'Alter',\n",
              " 'Altha',\n",
              " 'Althea',\n",
              " 'Altie',\n",
              " 'Alto',\n",
              " 'Alton',\n",
              " 'Altonia',\n",
              " 'Alula',\n",
              " 'Alva',\n",
              " 'Alvah',\n",
              " 'Alvaro',\n",
              " 'Alver',\n",
              " 'Alvern',\n",
              " 'Alvia',\n",
              " 'Alvie',\n",
              " 'Alvin',\n",
              " 'Alvina',\n",
              " 'Alvine',\n",
              " 'Alvis',\n",
              " 'Alwyn',\n",
              " 'Aly',\n",
              " 'Alyjah',\n",
              " 'Alyn',\n",
              " 'Alyric',\n",
              " 'Alyson',\n",
              " 'Alyssa',\n",
              " 'Alyx',\n",
              " 'Amadi',\n",
              " 'Amahri',\n",
              " 'Amai',\n",
              " 'Amal',\n",
              " 'Aman',\n",
              " 'Amanda',\n",
              " 'Amandeep',\n",
              " 'Amando',\n",
              " 'Amani',\n",
              " 'Amanie',\n",
              " 'Amanpreet',\n",
              " 'Amanti',\n",
              " 'Amar',\n",
              " 'Amara',\n",
              " 'Amare',\n",
              " 'Amarea',\n",
              " 'Amaree',\n",
              " 'Amarey',\n",
              " 'Amari',\n",
              " 'Amaria',\n",
              " 'Amariah',\n",
              " 'Amarie',\n",
              " 'Amarii',\n",
              " 'Amarin',\n",
              " 'Amarion',\n",
              " 'Amaris',\n",
              " 'Amarri',\n",
              " 'Amaru',\n",
              " 'Amary',\n",
              " 'Amauri',\n",
              " 'Amaurie',\n",
              " 'Amaury',\n",
              " 'Amavi',\n",
              " 'Amaya',\n",
              " 'Amazi',\n",
              " 'Amaziah',\n",
              " 'Amazin',\n",
              " 'Amazing',\n",
              " 'Ambar',\n",
              " 'Amber',\n",
              " 'Ambrose',\n",
              " 'Ame',\n",
              " 'Amel',\n",
              " 'Amelia',\n",
              " 'Amen',\n",
              " 'Amer',\n",
              " 'Amere',\n",
              " 'Ameri',\n",
              " 'America',\n",
              " 'Americus',\n",
              " 'Ameris',\n",
              " 'Amerius',\n",
              " 'Amerson',\n",
              " 'Amery',\n",
              " 'Ames',\n",
              " 'Amethyst',\n",
              " 'Amey',\n",
              " 'Ameya',\n",
              " 'Ami',\n",
              " 'Amias',\n",
              " 'Amie',\n",
              " 'Amiel',\n",
              " 'Amiere',\n",
              " 'Amiko',\n",
              " 'Amil',\n",
              " 'Amillian',\n",
              " 'Amillion',\n",
              " 'Amilliyon',\n",
              " 'Amine',\n",
              " 'Amir',\n",
              " 'Amire',\n",
              " 'Amiri',\n",
              " 'Amirie',\n",
              " 'Amirii',\n",
              " 'Amiris',\n",
              " 'Amisadai',\n",
              " 'Amit',\n",
              " 'Ammer',\n",
              " 'Ammie',\n",
              " 'Amnen',\n",
              " 'Amo',\n",
              " 'Amoni',\n",
              " 'Amonti',\n",
              " 'Amor',\n",
              " 'Amore',\n",
              " 'Amori',\n",
              " 'Amorie',\n",
              " 'Amory',\n",
              " 'Amos',\n",
              " 'Amour',\n",
              " 'Amouri',\n",
              " 'Amparo',\n",
              " 'Amran',\n",
              " 'Amri',\n",
              " 'Amrit',\n",
              " 'Amryn',\n",
              " 'Amy',\n",
              " 'Amyre',\n",
              " 'Amzi',\n",
              " 'Amzie',\n",
              " 'An',\n",
              " 'Ana',\n",
              " 'Anabel',\n",
              " 'Anael',\n",
              " 'Anahi',\n",
              " 'Anaiah',\n",
              " 'Anais',\n",
              " 'Anakin',\n",
              " 'Analu',\n",
              " 'Anan',\n",
              " 'Ananda',\n",
              " 'Anani',\n",
              " 'Ananya',\n",
              " 'Anari',\n",
              " 'Anastasia',\n",
              " 'Anay',\n",
              " 'Ande',\n",
              " 'Andee',\n",
              " 'Andera',\n",
              " 'Andersen',\n",
              " 'Anderson',\n",
              " 'Andersyn',\n",
              " 'Andi',\n",
              " 'Andie',\n",
              " 'Andin',\n",
              " 'Andra',\n",
              " 'Andrae',\n",
              " 'Andre',\n",
              " 'Andrea',\n",
              " 'Andrean',\n",
              " 'Andreas',\n",
              " 'Andree',\n",
              " 'Andreina',\n",
              " 'Andrel',\n",
              " 'Andrell',\n",
              " 'Andres',\n",
              " 'Andrew',\n",
              " 'Andrey',\n",
              " 'Andri',\n",
              " 'Andria',\n",
              " 'Andrian',\n",
              " 'Andriel',\n",
              " 'Andry',\n",
              " 'Andy',\n",
              " 'Anel',\n",
              " 'Aner',\n",
              " 'Anesti',\n",
              " 'Ange',\n",
              " 'Angel',\n",
              " 'Angela',\n",
              " 'Angeles',\n",
              " 'Angelia',\n",
              " 'Angelica',\n",
              " 'Angelina',\n",
              " 'Angeline',\n",
              " 'Angelique',\n",
              " 'Angelis',\n",
              " 'Angelita',\n",
              " 'Angell',\n",
              " 'Angelo',\n",
              " 'Angelus',\n",
              " 'Angie',\n",
              " 'Angle',\n",
              " 'Anh',\n",
              " 'Anhad',\n",
              " 'Ani',\n",
              " 'Anias',\n",
              " 'Anibal',\n",
              " 'Anik',\n",
              " 'Aniko',\n",
              " 'Anis',\n",
              " 'Anissa',\n",
              " 'Aniston',\n",
              " 'Anita',\n",
              " 'Aniyah',\n",
              " 'Anjel',\n",
              " 'Anjolaoluwa',\n",
              " 'Anmol',\n",
              " 'Ann',\n",
              " 'Anna',\n",
              " 'Annabelle',\n",
              " 'Annas',\n",
              " 'Anne',\n",
              " 'Anner',\n",
              " 'Annette',\n",
              " 'Annie',\n",
              " 'Annis',\n",
              " 'Anoop',\n",
              " 'Anri',\n",
              " 'Ansel',\n",
              " 'Anshu',\n",
              " 'Ansley',\n",
              " 'Anson',\n",
              " 'Anthem',\n",
              " 'Anthony',\n",
              " 'Anthym',\n",
              " 'Antiona',\n",
              " 'Antione',\n",
              " 'Antoine',\n",
              " 'Antoinette',\n",
              " 'Anton',\n",
              " 'Antone',\n",
              " 'Antonella',\n",
              " 'Antoni',\n",
              " 'Antonia',\n",
              " 'Antonie',\n",
              " 'Antonio',\n",
              " 'Antwan',\n",
              " 'Antwana',\n",
              " 'Antwaun',\n",
              " 'Antwon',\n",
              " 'Anu',\n",
              " 'Anuoluwa',\n",
              " 'Anwar',\n",
              " 'Anyx',\n",
              " 'Anzel',\n",
              " 'Aoi',\n",
              " 'Apache',\n",
              " 'Apolinar',\n",
              " 'Apollo',\n",
              " 'April',\n",
              " 'Apurva',\n",
              " 'Aquarius',\n",
              " 'Aquila',\n",
              " 'Aquilla',\n",
              " 'Ara',\n",
              " 'Araceli',\n",
              " 'Aracely',\n",
              " 'Aradhya',\n",
              " 'Aram',\n",
              " 'Aramis',\n",
              " 'Aran',\n",
              " 'Araoluwa',\n",
              " 'Araya',\n",
              " 'Arba',\n",
              " 'Arbie',\n",
              " 'Arbor',\n",
              " 'Archer',\n",
              " 'Archi',\n",
              " 'Archie',\n",
              " 'Arcie',\n",
              " 'Arda',\n",
              " 'Ardath',\n",
              " 'Ardean',\n",
              " 'Ardel',\n",
              " 'Ardell',\n",
              " 'Arden',\n",
              " 'Ardie',\n",
              " 'Ardine',\n",
              " 'Ardis',\n",
              " 'Ardith',\n",
              " 'Ardyn',\n",
              " 'Ardys',\n",
              " 'Aree',\n",
              " 'Areen',\n",
              " 'Areion',\n",
              " 'Arel',\n",
              " 'Areli',\n",
              " 'Aren',\n",
              " 'Areon',\n",
              " 'Ares',\n",
              " 'Areyon',\n",
              " 'Argelis',\n",
              " 'Argie',\n",
              " 'Argusta',\n",
              " 'Arguster',\n",
              " 'Argyle',\n",
              " 'Arha',\n",
              " 'Ari',\n",
              " 'Aria',\n",
              " 'Ariah',\n",
              " 'Ariam',\n",
              " 'Arian',\n",
              " 'Ariana',\n",
              " 'Ariane',\n",
              " 'Ariann',\n",
              " 'Arianna',\n",
              " 'Arias',\n",
              " 'Ariat',\n",
              " 'Aric',\n",
              " 'Arie',\n",
              " 'Ariel',\n",
              " 'Ariell',\n",
              " 'Ariella',\n",
              " 'Arielle',\n",
              " 'Arien',\n",
              " 'Arieon',\n",
              " 'Aries',\n",
              " 'Ariez',\n",
              " 'Arin',\n",
              " 'Arion',\n",
              " 'Aris',\n",
              " 'Arius',\n",
              " 'Ariya',\n",
              " 'Ariyan',\n",
              " 'Ariyon',\n",
              " 'Arizona',\n",
              " 'Arka',\n",
              " 'Arkie',\n",
              " 'Arla',\n",
              " 'Arland',\n",
              " 'Arlanda',\n",
              " 'Arlee',\n",
              " 'Arleen',\n",
              " 'Arleigh',\n",
              " 'Arlen',\n",
              " 'Arlene',\n",
              " 'Arles',\n",
              " 'Arless',\n",
              " 'Arlet',\n",
              " 'Arley',\n",
              " 'Arlice',\n",
              " 'Arlie',\n",
              " 'Arlin',\n",
              " 'Arline',\n",
              " 'Arlington',\n",
              " 'Arlis',\n",
              " 'Arliss',\n",
              " 'Arlo',\n",
              " 'Arlow',\n",
              " 'Arlowe',\n",
              " 'Arly',\n",
              " 'Arlyn',\n",
              " 'Arlynn',\n",
              " 'Armahni',\n",
              " 'Armand',\n",
              " 'Armando',\n",
              " 'Armani',\n",
              " 'Armanie',\n",
              " 'Armanii',\n",
              " 'Armanni',\n",
              " 'Armari',\n",
              " 'Armeen',\n",
              " 'Armen',\n",
              " 'Armer',\n",
              " 'Armie',\n",
              " 'Armistice',\n",
              " 'Armone',\n",
              " 'Armonee',\n",
              " 'Armoni',\n",
              " 'Armonie',\n",
              " 'Armonii',\n",
              " 'Armonni',\n",
              " 'Arnel',\n",
              " 'Arnell',\n",
              " 'Arnett',\n",
              " 'Arnette',\n",
              " 'Arnez',\n",
              " 'Arnie',\n",
              " 'Arnold',\n",
              " 'Aron',\n",
              " 'Arona',\n",
              " 'Aroosh',\n",
              " 'Aroyal',\n",
              " 'Arpan',\n",
              " 'Arren',\n",
              " 'Arreon',\n",
              " 'Arri',\n",
              " 'Arrian',\n",
              " 'Arrie',\n",
              " 'Arrin',\n",
              " 'Arrington',\n",
              " 'Arrion',\n",
              " 'Arris',\n",
              " 'Arron',\n",
              " 'Arrow',\n",
              " 'Arryn',\n",
              " 'Arsh',\n",
              " 'Arsha',\n",
              " 'Arshdeep',\n",
              " 'Arshia',\n",
              " 'Art',\n",
              " 'Arta',\n",
              " 'Artee',\n",
              " 'Artell',\n",
              " 'Artemis',\n",
              " 'Artha',\n",
              " 'Arther',\n",
              " 'Arthur',\n",
              " 'Arti',\n",
              " 'Artice',\n",
              " 'Artie',\n",
              " 'Artis',\n",
              " 'Artist',\n",
              " 'Arturo',\n",
              " 'Arvi',\n",
              " 'Arvie',\n",
              " 'Arville',\n",
              " 'Arvis',\n",
              " 'Arwyn',\n",
              " 'Ary',\n",
              " 'Arya',\n",
              " 'Aryam',\n",
              " 'Aryan',\n",
              " 'Aryeh',\n",
              " 'Aryel',\n",
              " 'Aryes',\n",
              " 'Aryian',\n",
              " 'Aryn',\n",
              " 'Aryon',\n",
              " 'Arys',\n",
              " 'Arza',\n",
              " 'Arzell',\n",
              " 'Arzo',\n",
              " 'Asa',\n",
              " 'Asai',\n",
              " 'Asaiah',\n",
              " 'Asani',\n",
              " 'Asante',\n",
              " 'Asanti',\n",
              " 'Asaya',\n",
              " 'Ascencion',\n",
              " 'Ascension',\n",
              " 'Ase',\n",
              " 'Aseda',\n",
              " 'Aseel',\n",
              " 'Asencion',\n",
              " 'Ash',\n",
              " 'Asha',\n",
              " 'Ashai',\n",
              " 'Ashanta',\n",
              " 'Ashante',\n",
              " 'Ashanti',\n",
              " 'Ashay',\n",
              " 'Ashby',\n",
              " 'Ashden',\n",
              " 'Ashdyn',\n",
              " 'Ashe',\n",
              " 'Ashely',\n",
              " 'Asher',\n",
              " 'Asheton',\n",
              " 'Ashlan',\n",
              " 'Ashland',\n",
              " 'Ashlee',\n",
              " 'Ashleigh',\n",
              " 'Ashlen',\n",
              " 'Ashley',\n",
              " 'Ashlie',\n",
              " 'Ashlin',\n",
              " 'Ashlon',\n",
              " 'Ashly',\n",
              " 'Ashlyn',\n",
              " 'Ashlynn',\n",
              " 'Ashtan',\n",
              " 'Ashten',\n",
              " 'Ashtin',\n",
              " 'Ashton',\n",
              " 'Ashtyn',\n",
              " 'Ashtynn',\n",
              " 'Asia',\n",
              " 'Asiah',\n",
              " 'Asian',\n",
              " 'Asie',\n",
              " 'Asiel',\n",
              " 'Asil',\n",
              " 'Asiyah',\n",
              " 'Aslan',\n",
              " 'Ason',\n",
              " 'Asonte',\n",
              " 'Aspen',\n",
              " 'Aspyn',\n",
              " 'Asriel',\n",
              " 'Asta',\n",
              " 'Asten',\n",
              " 'Aster',\n",
              " 'Astin',\n",
              " 'Aston',\n",
              " 'Astor',\n",
              " 'Astrid',\n",
              " 'Astyn',\n",
              " 'Asuncion',\n",
              " 'Asyah',\n",
              " 'Asyiah',\n",
              " 'Atari',\n",
              " 'Atha',\n",
              " 'Athel',\n",
              " 'Athens',\n",
              " 'Ather',\n",
              " 'Atiba',\n",
              " 'Atlantis',\n",
              " 'Atlas',\n",
              " 'Atlee',\n",
              " 'Atley',\n",
              " 'Atli',\n",
              " 'Atlys',\n",
              " 'Atreya',\n",
              " 'Atta',\n",
              " 'Atticus',\n",
              " 'Attley',\n",
              " 'Atzin',\n",
              " 'Aubery',\n",
              " 'Aubie',\n",
              " 'Aubin',\n",
              " 'Aubra',\n",
              " 'Aubre',\n",
              " 'Aubree',\n",
              " 'Aubren',\n",
              " 'Aubrey',\n",
              " 'Aubry',\n",
              " 'Auburn',\n",
              " 'Auden',\n",
              " 'Audi',\n",
              " 'Audie',\n",
              " 'Audin',\n",
              " 'Audley',\n",
              " 'Audra',\n",
              " 'Audre',\n",
              " 'Audrey',\n",
              " 'Audrie',\n",
              " 'Audriel',\n",
              " 'Audry',\n",
              " 'Audy',\n",
              " 'Audyn',\n",
              " 'Augie',\n",
              " 'August',\n",
              " 'Augusta',\n",
              " 'Auguste',\n",
              " 'Augustine',\n",
              " 'Augustus',\n",
              " 'Aundra',\n",
              " 'Aundrea',\n",
              " 'Aundrey',\n",
              " 'Aunyx',\n",
              " 'Aura',\n",
              " 'Aurel',\n",
              " 'Aurelio',\n",
              " 'Auren',\n",
              " 'Auri',\n",
              " 'Aurian',\n",
              " 'Auriel',\n",
              " 'Aurion',\n",
              " 'Aurora',\n",
              " 'Aury',\n",
              " 'Auryn',\n",
              " 'Austen',\n",
              " 'Austin',\n",
              " 'Austine',\n",
              " 'Australia',\n",
              " 'Austyn',\n",
              " 'Auther',\n",
              " 'Autie',\n",
              " 'Autrey',\n",
              " 'Autry',\n",
              " 'Autumn',\n",
              " 'Ava',\n",
              " 'Avalon',\n",
              " 'Avan',\n",
              " 'Avani',\n",
              " 'Avante',\n",
              " 'Avanti',\n",
              " 'Avari',\n",
              " 'Avary',\n",
              " 'Aven',\n",
              " 'Aveon',\n",
              " 'Averee',\n",
              " 'Averey',\n",
              " 'Averi',\n",
              " 'Averie',\n",
              " 'Averil',\n",
              " 'Averill',\n",
              " 'Avery',\n",
              " 'Avett',\n",
              " 'Avi',\n",
              " 'Avian',\n",
              " 'Avie',\n",
              " 'Aviel',\n",
              " 'Avielle',\n",
              " 'Avighna',\n",
              " 'Avin',\n",
              " 'Avion',\n",
              " 'Avis',\n",
              " 'Aviv',\n",
              " 'Aviyon',\n",
              " ...]"
            ]
          },
          "execution_count": 7,
          "metadata": {},
          "output_type": "execute_result"
        }
      ],
      "source": [
        "filtered_names3 = babynames.groupby(\"Name\")[\"Sex\"].nunique()\n",
        "unisex_names = filtered_names3[filtered_names3 == 2].index.tolist()\n",
        "unisex_names"
      ]
    },
    {
      "cell_type": "markdown",
      "id": "aBNZL7uR7Bdo",
      "metadata": {
        "id": "aBNZL7uR7Bdo"
      },
      "source": [
        "## Task 6\n",
        "\n",
        "In the election dataset, return the dataframe rows with parties who had at least two wins."
      ]
    },
    {
      "cell_type": "code",
      "execution_count": 8,
      "id": "k8zsDvnN7GcW",
      "metadata": {
        "id": "k8zsDvnN7GcW"
      },
      "outputs": [
        {
          "data": {
            "text/html": [
              "<div>\n",
              "<style scoped>\n",
              "    .dataframe tbody tr th:only-of-type {\n",
              "        vertical-align: middle;\n",
              "    }\n",
              "\n",
              "    .dataframe tbody tr th {\n",
              "        vertical-align: top;\n",
              "    }\n",
              "\n",
              "    .dataframe thead th {\n",
              "        text-align: right;\n",
              "    }\n",
              "</style>\n",
              "<table border=\"1\" class=\"dataframe\">\n",
              "  <thead>\n",
              "    <tr style=\"text-align: right;\">\n",
              "      <th></th>\n",
              "      <th>Year</th>\n",
              "      <th>Candidate</th>\n",
              "      <th>Party</th>\n",
              "      <th>Popular vote</th>\n",
              "      <th>Result</th>\n",
              "      <th>%</th>\n",
              "    </tr>\n",
              "  </thead>\n",
              "  <tbody>\n",
              "    <tr>\n",
              "      <th>2</th>\n",
              "      <td>1828</td>\n",
              "      <td>Andrew Jackson</td>\n",
              "      <td>Democratic</td>\n",
              "      <td>642806</td>\n",
              "      <td>win</td>\n",
              "      <td>56.203927</td>\n",
              "    </tr>\n",
              "    <tr>\n",
              "      <th>4</th>\n",
              "      <td>1832</td>\n",
              "      <td>Andrew Jackson</td>\n",
              "      <td>Democratic</td>\n",
              "      <td>702735</td>\n",
              "      <td>win</td>\n",
              "      <td>54.574789</td>\n",
              "    </tr>\n",
              "    <tr>\n",
              "      <th>7</th>\n",
              "      <td>1836</td>\n",
              "      <td>Hugh Lawson White</td>\n",
              "      <td>Whig</td>\n",
              "      <td>146109</td>\n",
              "      <td>loss</td>\n",
              "      <td>10.005985</td>\n",
              "    </tr>\n",
              "    <tr>\n",
              "      <th>8</th>\n",
              "      <td>1836</td>\n",
              "      <td>Martin Van Buren</td>\n",
              "      <td>Democratic</td>\n",
              "      <td>763291</td>\n",
              "      <td>win</td>\n",
              "      <td>52.272472</td>\n",
              "    </tr>\n",
              "    <tr>\n",
              "      <th>9</th>\n",
              "      <td>1836</td>\n",
              "      <td>William Henry Harrison</td>\n",
              "      <td>Whig</td>\n",
              "      <td>550816</td>\n",
              "      <td>loss</td>\n",
              "      <td>37.721543</td>\n",
              "    </tr>\n",
              "    <tr>\n",
              "      <th>...</th>\n",
              "      <td>...</td>\n",
              "      <td>...</td>\n",
              "      <td>...</td>\n",
              "      <td>...</td>\n",
              "      <td>...</td>\n",
              "      <td>...</td>\n",
              "    </tr>\n",
              "    <tr>\n",
              "      <th>171</th>\n",
              "      <td>2012</td>\n",
              "      <td>Mitt Romney</td>\n",
              "      <td>Republican</td>\n",
              "      <td>60933504</td>\n",
              "      <td>loss</td>\n",
              "      <td>47.384076</td>\n",
              "    </tr>\n",
              "    <tr>\n",
              "      <th>173</th>\n",
              "      <td>2016</td>\n",
              "      <td>Donald Trump</td>\n",
              "      <td>Republican</td>\n",
              "      <td>62984828</td>\n",
              "      <td>win</td>\n",
              "      <td>46.407862</td>\n",
              "    </tr>\n",
              "    <tr>\n",
              "      <th>176</th>\n",
              "      <td>2016</td>\n",
              "      <td>Hillary Clinton</td>\n",
              "      <td>Democratic</td>\n",
              "      <td>65853514</td>\n",
              "      <td>loss</td>\n",
              "      <td>48.521539</td>\n",
              "    </tr>\n",
              "    <tr>\n",
              "      <th>178</th>\n",
              "      <td>2020</td>\n",
              "      <td>Joseph Biden</td>\n",
              "      <td>Democratic</td>\n",
              "      <td>81268924</td>\n",
              "      <td>win</td>\n",
              "      <td>51.311515</td>\n",
              "    </tr>\n",
              "    <tr>\n",
              "      <th>179</th>\n",
              "      <td>2020</td>\n",
              "      <td>Donald Trump</td>\n",
              "      <td>Republican</td>\n",
              "      <td>74216154</td>\n",
              "      <td>loss</td>\n",
              "      <td>46.858542</td>\n",
              "    </tr>\n",
              "  </tbody>\n",
              "</table>\n",
              "<p>94 rows × 6 columns</p>\n",
              "</div>"
            ],
            "text/plain": [
              "     Year               Candidate       Party  Popular vote Result          %\n",
              "2    1828          Andrew Jackson  Democratic        642806    win  56.203927\n",
              "4    1832          Andrew Jackson  Democratic        702735    win  54.574789\n",
              "7    1836       Hugh Lawson White        Whig        146109   loss  10.005985\n",
              "8    1836        Martin Van Buren  Democratic        763291    win  52.272472\n",
              "9    1836  William Henry Harrison        Whig        550816   loss  37.721543\n",
              "..    ...                     ...         ...           ...    ...        ...\n",
              "171  2012             Mitt Romney  Republican      60933504   loss  47.384076\n",
              "173  2016            Donald Trump  Republican      62984828    win  46.407862\n",
              "176  2016         Hillary Clinton  Democratic      65853514   loss  48.521539\n",
              "178  2020            Joseph Biden  Democratic      81268924    win  51.311515\n",
              "179  2020            Donald Trump  Republican      74216154   loss  46.858542\n",
              "\n",
              "[94 rows x 6 columns]"
            ]
          },
          "execution_count": 8,
          "metadata": {},
          "output_type": "execute_result"
        }
      ],
      "source": [
        "# METHOD 1\n",
        "import pandas as pd\n",
        "elections = pd.read_csv(\"elections.csv\")\n",
        "\n",
        "#Extract rows where Result is \"win\", then group rows by Party\n",
        "top_parties = elections[elections[\"Result\"] == \"win\"].groupby(\"Party\")\n",
        "#Filter out Parties with less than 2 wins, then extract remaining unique Party names\n",
        "top_parties = top_parties.filter(lambda x: len(x) >= 2)[\"Party\"].unique().tolist()\n",
        "#Return the dataframe rows with Parties who won at least twice\n",
        "top_parties = elections[elections[\"Party\"].isin(top_parties)]\n",
        "top_parties"
      ]
    },
    {
      "cell_type": "code",
      "execution_count": 9,
      "id": "6e735981",
      "metadata": {},
      "outputs": [
        {
          "data": {
            "text/html": [
              "<div>\n",
              "<style scoped>\n",
              "    .dataframe tbody tr th:only-of-type {\n",
              "        vertical-align: middle;\n",
              "    }\n",
              "\n",
              "    .dataframe tbody tr th {\n",
              "        vertical-align: top;\n",
              "    }\n",
              "\n",
              "    .dataframe thead th {\n",
              "        text-align: right;\n",
              "    }\n",
              "</style>\n",
              "<table border=\"1\" class=\"dataframe\">\n",
              "  <thead>\n",
              "    <tr style=\"text-align: right;\">\n",
              "      <th></th>\n",
              "      <th>Party</th>\n",
              "      <th>Total Wins</th>\n",
              "    </tr>\n",
              "  </thead>\n",
              "  <tbody>\n",
              "    <tr>\n",
              "      <th>0</th>\n",
              "      <td>Democratic</td>\n",
              "      <td>23</td>\n",
              "    </tr>\n",
              "    <tr>\n",
              "      <th>1</th>\n",
              "      <td>Republican</td>\n",
              "      <td>23</td>\n",
              "    </tr>\n",
              "    <tr>\n",
              "      <th>2</th>\n",
              "      <td>Whig</td>\n",
              "      <td>2</td>\n",
              "    </tr>\n",
              "  </tbody>\n",
              "</table>\n",
              "</div>"
            ],
            "text/plain": [
              "        Party  Total Wins\n",
              "0  Democratic          23\n",
              "1  Republican          23\n",
              "2        Whig           2"
            ]
          },
          "execution_count": 9,
          "metadata": {},
          "output_type": "execute_result"
        }
      ],
      "source": [
        "# METHOD 2\n",
        "import pandas as pd\n",
        "elections = pd.read_csv(\"elections.csv\")\n",
        "\n",
        "#Extract rows where Result is \"win\", then count the wins for each Party\n",
        "party_wins = elections[elections[\"Result\"] == \"win\"]['Party'].value_counts()\n",
        "#Filter the counts to include only parties with at least two wins\n",
        "top_parties2 = party_wins[party_wins >= 2].reset_index()\n",
        "#rename \"count\" column to \"Total Wins\"\n",
        "top_parties2.columns = [\"Party\", \"Total Wins\"]\n",
        "top_parties2"
      ]
    }
  ],
  "metadata": {
    "colab": {
      "provenance": []
    },
    "kernelspec": {
      "display_name": "Python 3",
      "language": "python",
      "name": "python3"
    },
    "language_info": {
      "codemirror_mode": {
        "name": "ipython",
        "version": 3
      },
      "file_extension": ".py",
      "mimetype": "text/x-python",
      "name": "python",
      "nbconvert_exporter": "python",
      "pygments_lexer": "ipython3",
      "version": "3.12.2"
    }
  },
  "nbformat": 4,
  "nbformat_minor": 5
}
